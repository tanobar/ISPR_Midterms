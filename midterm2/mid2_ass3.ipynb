{
 "cells": [
  {
   "cell_type": "markdown",
   "id": "cca4154c",
   "metadata": {},
   "source": [
    "# Midterm 2, Assignment 3 - Gaetano Barresi [579102]\n",
    "\n",
    "A Restricted Boltzmann Machine (RBM) is a generative stochastic neural network that learns a probability distribution over its inputs. It is widely used for unsupervised learning, dimensionality reduction, and feature extraction.\n",
    "To implement from scratch a RBM we must define first its architecture. It is a simple two layer neural network, one input layer (visible states, our data) and one hidden layer (the hidden states, latent feature representation). For parameters, we have a set of weights and two set of bias, one for the visible units and one for the hidden units:\n",
    "\n",
    "\n",
    "```python\n",
    "self.W = torch.randn(hidden_dim, visible_dim, device=self.device) * 0.01\n",
    "self.v_bias = torch.zeros(visible_dim, device=self.device)\n",
    "self.h_bias = torch.zeros(hidden_dim, device=self.device)\n",
    "```\n",
    "\n",
    "\n",
    "Weights W are initialized with small values and biases with zeros.\n",
    "Hidden units are conditionally independent given visible units and viceversa, due to not oriented edges and bipartition structure:\n",
    "\n",
    "\n",
    "$$\n",
    "\\\n",
    "\\mathbb{P}(h_j \\mid v) = \\sigma \\left( \\sum_i M_{ij} v_i + c_j \\right) \\quad \\forall j\n",
    "\\\n",
    "$$\n",
    "\n",
    "\n",
    "$$\n",
    "\\\n",
    "\\mathbb{P}(v_i \\mid h) = \\sigma \\left( \\sum_j M_{ij} h_j + b_i \\right) \\quad \\forall i\n",
    "\\\n",
    "$$\n",
    "\n",
    "\n",
    "These are resepctively the forward pass (wake) and the backward pass (dream) and they can be implemented as:\n",
    "\n",
    "\n",
    "```python\n",
    "def visible_to_hidden(self, v):  # forward pass\n",
    "    # compute probabilities of hidden units given visible units\n",
    "    p_h = torch.sigmoid(F.linear(v, self.W, self.h_bias))\n",
    "    return p_h\n",
    "    \n",
    "def hidden_to_visible(self, h):  # backward pass\n",
    "    # compute probabilities of visible units given hidden units\n",
    "    p_v = torch.sigmoid(F.linear(h, self.W.t(), self.v_bias))\n",
    "    return p_v\n",
    "```\n",
    "\n",
    "\n",
    "In a RBM, sampling is a key step in the training process, particularly during Gibbs sampling. In order to generate binary samples (0 or 1) from a given probability distribution p, we use the following function. These binary samples represent the activation states of the visible or hidden units in the RBM.\n",
    "\n",
    "\n",
    "```python\n",
    "def sample_from_p(self, p):\n",
    "    return F.relu(torch.sign(p - torch.rand_like(p, device=self.device)))\n",
    "```\n",
    "\n",
    "\n",
    "`sample_from_p` takes p, which is a tensor of probabilities. Each value in p represents the probability of a unit being activated (set to 1).\n",
    "`torch.rand_like(p)` generates a tensor of random values, uniformly distributed between 0 and 1, with the same shape as p. `p - torch.rand_like(p)` computes the difference between the probabilities and the random values.\n",
    "`torch.sign(p - torch.rand_like(p))` produces a tensor where values greater than 0 are set to 1, and values less than 0 are set to -1. This effectively performs a thresholding operation to decide whether each unit is activated (1) or not (-1).\n",
    "`F.relu(...)` ensures that all negative values are clamped to 0. This step converts the -1 values to 0, resulting in a binary tensor of 0s and 1s.\n",
    "All these pieces are used inside the generalized version of Contrastive Divergence (CD) learning algorithm. It is divided in positive phase (wake part), negative phase (dream part) and parameters update.\n",
    "\n",
    "Positive phase computes the hidden probabilities (`p_h_given_v`) and sample hidden states (`h_sample`). It computes also the positive gradient as the outer product of `h_sample` and `v`.\n",
    "\n",
    "\n",
    "```python\n",
    "# positive phase\n",
    "p_h_given_v = self.visible_to_hidden(v)\n",
    "h_sample = self.sample_from_p(p_h_given_v)\n",
    "positive_grad = torch.mm(h_sample.t(), v)\n",
    "```\n",
    "\n",
    "\n",
    "Negative phase performs k steps of Gibbs sampling to reconstruct the visible and hidden states and computes the negative gradient as the outer product of the reconstructed hidden probabilities and visible states.\n",
    "\n",
    "\n",
    "```python\n",
    "# gibbs sampling (negative phase)\n",
    "v_sample = v\n",
    "for _ in range(self.k):\n",
    "    p_h_given_v = self.visible_to_hidden(v_sample)\n",
    "    h_sample = self.sample_from_p(p_h_given_v)\n",
    "    p_v_given_h = self.hidden_to_visible(h_sample)\n",
    "    v_sample = self.sample_from_p(p_v_given_h)\n",
    "\n",
    "# negative phase\n",
    "p_h_given_v_sample = self.visible_to_hidden(v_sample)\n",
    "negative_grad = torch.mm(p_h_given_v_sample.t(), v_sample)\n",
    "```\n",
    "\n",
    "\n",
    "Weights (`W`) and biases (`v_bias`, `h_bias`) are updated using the difference between the positive and negative gradients, normalized by the batch size.\n",
    "\n",
    "\n",
    "```python\n",
    "self.W += self.learning_rate * (positive_grad - negative_grad) / v.size(0)\n",
    "self.v_bias += self.learning_rate * torch.sum(v - v_sample, dim=0) / v.size(0)\n",
    "self.h_bias += self.learning_rate * torch.sum(p_h_given_v - p_h_given_v_sample, dim=0) / v.size(0)\n",
    "```\n",
    "\n",
    "\n",
    "We now pack all this stuff in a custom class `RBM`, provided with its own training method and train two different RBMs, with different values of k for CD algorithm: k=4 and k=8."
   ]
  },
  {
   "cell_type": "code",
   "execution_count": 6,
   "id": "b9229443",
   "metadata": {},
   "outputs": [],
   "source": [
    "import torch\n",
    "import torch.nn.functional as F\n",
    "from tqdm import tqdm\n",
    "\n",
    "class RBM:\n",
    "    def __init__(self, visible_dim, hidden_dim, k=1, lr=0.01, device='cpu'):\n",
    "        self.visible_dim = visible_dim\n",
    "        self.hidden_dim = hidden_dim\n",
    "        self.k = k  # number of Gibbs sampling steps\n",
    "        self.learning_rate = lr\n",
    "        self.device = device  # Device to run the computations on (e.g., 'cuda' or 'cpu')\n",
    "        \n",
    "        # weights and biases initialization\n",
    "        self.W = torch.randn(hidden_dim, visible_dim, device=self.device) * 0.01\n",
    "        self.v_bias = torch.zeros(visible_dim, device=self.device)\n",
    "        self.h_bias = torch.zeros(hidden_dim, device=self.device)\n",
    "    \n",
    "    def sample_from_p(self, p):\n",
    "        # bernoulli sampling given probabilities\n",
    "        return F.relu(torch.sign(p - torch.rand_like(p, device=self.device)))\n",
    "    \n",
    "    def visible_to_hidden(self, v):  # forward pass\n",
    "        # compute probabilities of hidden units given visible units\n",
    "        p_h = torch.sigmoid(F.linear(v, self.W, self.h_bias))\n",
    "        return p_h\n",
    "    \n",
    "    def hidden_to_visible(self, h):  # backward pass\n",
    "        # compute probabilities of visible units given hidden units\n",
    "        p_v = torch.sigmoid(F.linear(h, self.W.t(), self.v_bias))\n",
    "        return p_v\n",
    "\n",
    "    def contrastive_divergence(self, v):\n",
    "        # Move input to the correct device\n",
    "        v = v.to(self.device)\n",
    "\n",
    "        # positive phase\n",
    "        p_h_given_v = self.visible_to_hidden(v)\n",
    "        h_sample = self.sample_from_p(p_h_given_v)\n",
    "        positive_grad = torch.mm(h_sample.t(), v)\n",
    "\n",
    "        # gibbs sampling (negative phase)\n",
    "        v_sample = v\n",
    "        for _ in range(self.k):\n",
    "            p_h_given_v = self.visible_to_hidden(v_sample)\n",
    "            h_sample = self.sample_from_p(p_h_given_v)\n",
    "            p_v_given_h = self.hidden_to_visible(h_sample)\n",
    "            v_sample = self.sample_from_p(p_v_given_h)\n",
    "\n",
    "        # negative phase\n",
    "        p_h_given_v_sample = self.visible_to_hidden(v_sample)\n",
    "        negative_grad = torch.mm(p_h_given_v_sample.t(), v_sample)\n",
    "\n",
    "        # update weights and biases\n",
    "        self.W += self.learning_rate * (positive_grad - negative_grad) / v.size(0)\n",
    "        self.v_bias += self.learning_rate * torch.sum(v - v_sample, dim=0) / v.size(0)\n",
    "        self.h_bias += self.learning_rate * torch.sum(p_h_given_v - p_h_given_v_sample, dim=0) / v.size(0)\n",
    "\n",
    "    def train(self, data_loader, epochs=10):\n",
    "        for epoch in range(epochs):\n",
    "            epoch_error = 0\n",
    "            for batch in tqdm(data_loader, desc=\"Training Batches\", leave=False):\n",
    "                # Extract data from batch (ignore labels)\n",
    "                batch, _ = batch  # Unpack the tuple (data, labels)\n",
    "                batch = batch.view(-1, self.visible_dim).to(self.device)  # Flatten input and move to device\n",
    "                self.contrastive_divergence(batch)\n",
    "            \n",
    "            print(f\"Epoch {epoch + 1}/{epochs}\")"
   ]
  },
  {
   "cell_type": "code",
   "execution_count": 7,
   "id": "eb60c263",
   "metadata": {},
   "outputs": [
    {
     "name": "stdout",
     "output_type": "stream",
     "text": [
      "Using device: cuda\n",
      "Training RBM4...\n"
     ]
    },
    {
     "name": "stderr",
     "output_type": "stream",
     "text": [
      "                                                                      \r"
     ]
    },
    {
     "name": "stdout",
     "output_type": "stream",
     "text": [
      "Epoch 1/50\n"
     ]
    },
    {
     "name": "stderr",
     "output_type": "stream",
     "text": [
      "                                                                      \r"
     ]
    },
    {
     "name": "stdout",
     "output_type": "stream",
     "text": [
      "Epoch 2/50\n"
     ]
    },
    {
     "name": "stderr",
     "output_type": "stream",
     "text": [
      "                                                                      \r"
     ]
    },
    {
     "name": "stdout",
     "output_type": "stream",
     "text": [
      "Epoch 3/50\n"
     ]
    },
    {
     "name": "stderr",
     "output_type": "stream",
     "text": [
      "                                                                      \r"
     ]
    },
    {
     "name": "stdout",
     "output_type": "stream",
     "text": [
      "Epoch 4/50\n"
     ]
    },
    {
     "name": "stderr",
     "output_type": "stream",
     "text": [
      "                                                                      \r"
     ]
    },
    {
     "name": "stdout",
     "output_type": "stream",
     "text": [
      "Epoch 5/50\n"
     ]
    },
    {
     "name": "stderr",
     "output_type": "stream",
     "text": [
      "                                                                      \r"
     ]
    },
    {
     "name": "stdout",
     "output_type": "stream",
     "text": [
      "Epoch 6/50\n"
     ]
    },
    {
     "name": "stderr",
     "output_type": "stream",
     "text": [
      "                                                                      \r"
     ]
    },
    {
     "name": "stdout",
     "output_type": "stream",
     "text": [
      "Epoch 7/50\n"
     ]
    },
    {
     "name": "stderr",
     "output_type": "stream",
     "text": [
      "                                                                      \r"
     ]
    },
    {
     "name": "stdout",
     "output_type": "stream",
     "text": [
      "Epoch 8/50\n"
     ]
    },
    {
     "name": "stderr",
     "output_type": "stream",
     "text": [
      "                                                                      \r"
     ]
    },
    {
     "name": "stdout",
     "output_type": "stream",
     "text": [
      "Epoch 9/50\n"
     ]
    },
    {
     "name": "stderr",
     "output_type": "stream",
     "text": [
      "                                                                      \r"
     ]
    },
    {
     "name": "stdout",
     "output_type": "stream",
     "text": [
      "Epoch 10/50\n"
     ]
    },
    {
     "name": "stderr",
     "output_type": "stream",
     "text": [
      "                                                                      \r"
     ]
    },
    {
     "name": "stdout",
     "output_type": "stream",
     "text": [
      "Epoch 11/50\n"
     ]
    },
    {
     "name": "stderr",
     "output_type": "stream",
     "text": [
      "                                                                      \r"
     ]
    },
    {
     "name": "stdout",
     "output_type": "stream",
     "text": [
      "Epoch 12/50\n"
     ]
    },
    {
     "name": "stderr",
     "output_type": "stream",
     "text": [
      "                                                                      \r"
     ]
    },
    {
     "name": "stdout",
     "output_type": "stream",
     "text": [
      "Epoch 13/50\n"
     ]
    },
    {
     "name": "stderr",
     "output_type": "stream",
     "text": [
      "                                                                      \r"
     ]
    },
    {
     "name": "stdout",
     "output_type": "stream",
     "text": [
      "Epoch 14/50\n"
     ]
    },
    {
     "name": "stderr",
     "output_type": "stream",
     "text": [
      "                                                                      \r"
     ]
    },
    {
     "name": "stdout",
     "output_type": "stream",
     "text": [
      "Epoch 15/50\n"
     ]
    },
    {
     "name": "stderr",
     "output_type": "stream",
     "text": [
      "                                                                      \r"
     ]
    },
    {
     "name": "stdout",
     "output_type": "stream",
     "text": [
      "Epoch 16/50\n"
     ]
    },
    {
     "name": "stderr",
     "output_type": "stream",
     "text": [
      "                                                                      \r"
     ]
    },
    {
     "name": "stdout",
     "output_type": "stream",
     "text": [
      "Epoch 17/50\n"
     ]
    },
    {
     "name": "stderr",
     "output_type": "stream",
     "text": [
      "                                                                      \r"
     ]
    },
    {
     "name": "stdout",
     "output_type": "stream",
     "text": [
      "Epoch 18/50\n"
     ]
    },
    {
     "name": "stderr",
     "output_type": "stream",
     "text": [
      "                                                                      \r"
     ]
    },
    {
     "name": "stdout",
     "output_type": "stream",
     "text": [
      "Epoch 19/50\n"
     ]
    },
    {
     "name": "stderr",
     "output_type": "stream",
     "text": [
      "                                                                      \r"
     ]
    },
    {
     "name": "stdout",
     "output_type": "stream",
     "text": [
      "Epoch 20/50\n"
     ]
    },
    {
     "name": "stderr",
     "output_type": "stream",
     "text": [
      "                                                                      \r"
     ]
    },
    {
     "name": "stdout",
     "output_type": "stream",
     "text": [
      "Epoch 21/50\n"
     ]
    },
    {
     "name": "stderr",
     "output_type": "stream",
     "text": [
      "                                                                      \r"
     ]
    },
    {
     "name": "stdout",
     "output_type": "stream",
     "text": [
      "Epoch 22/50\n"
     ]
    },
    {
     "name": "stderr",
     "output_type": "stream",
     "text": [
      "                                                                      \r"
     ]
    },
    {
     "name": "stdout",
     "output_type": "stream",
     "text": [
      "Epoch 23/50\n"
     ]
    },
    {
     "name": "stderr",
     "output_type": "stream",
     "text": [
      "                                                                      \r"
     ]
    },
    {
     "name": "stdout",
     "output_type": "stream",
     "text": [
      "Epoch 24/50\n"
     ]
    },
    {
     "name": "stderr",
     "output_type": "stream",
     "text": [
      "                                                                      \r"
     ]
    },
    {
     "name": "stdout",
     "output_type": "stream",
     "text": [
      "Epoch 25/50\n"
     ]
    },
    {
     "name": "stderr",
     "output_type": "stream",
     "text": [
      "                                                                      \r"
     ]
    },
    {
     "name": "stdout",
     "output_type": "stream",
     "text": [
      "Epoch 26/50\n"
     ]
    },
    {
     "name": "stderr",
     "output_type": "stream",
     "text": [
      "                                                                      \r"
     ]
    },
    {
     "name": "stdout",
     "output_type": "stream",
     "text": [
      "Epoch 27/50\n"
     ]
    },
    {
     "name": "stderr",
     "output_type": "stream",
     "text": [
      "                                                                      \r"
     ]
    },
    {
     "name": "stdout",
     "output_type": "stream",
     "text": [
      "Epoch 28/50\n"
     ]
    },
    {
     "name": "stderr",
     "output_type": "stream",
     "text": [
      "                                                                      \r"
     ]
    },
    {
     "name": "stdout",
     "output_type": "stream",
     "text": [
      "Epoch 29/50\n"
     ]
    },
    {
     "name": "stderr",
     "output_type": "stream",
     "text": [
      "                                                                      \r"
     ]
    },
    {
     "name": "stdout",
     "output_type": "stream",
     "text": [
      "Epoch 30/50\n"
     ]
    },
    {
     "name": "stderr",
     "output_type": "stream",
     "text": [
      "                                                                      \r"
     ]
    },
    {
     "name": "stdout",
     "output_type": "stream",
     "text": [
      "Epoch 31/50\n"
     ]
    },
    {
     "name": "stderr",
     "output_type": "stream",
     "text": [
      "                                                                      \r"
     ]
    },
    {
     "name": "stdout",
     "output_type": "stream",
     "text": [
      "Epoch 32/50\n"
     ]
    },
    {
     "name": "stderr",
     "output_type": "stream",
     "text": [
      "                                                                      \r"
     ]
    },
    {
     "name": "stdout",
     "output_type": "stream",
     "text": [
      "Epoch 33/50\n"
     ]
    },
    {
     "name": "stderr",
     "output_type": "stream",
     "text": [
      "                                                                      \r"
     ]
    },
    {
     "name": "stdout",
     "output_type": "stream",
     "text": [
      "Epoch 34/50\n"
     ]
    },
    {
     "name": "stderr",
     "output_type": "stream",
     "text": [
      "                                                                      \r"
     ]
    },
    {
     "name": "stdout",
     "output_type": "stream",
     "text": [
      "Epoch 35/50\n"
     ]
    },
    {
     "name": "stderr",
     "output_type": "stream",
     "text": [
      "                                                                      \r"
     ]
    },
    {
     "name": "stdout",
     "output_type": "stream",
     "text": [
      "Epoch 36/50\n"
     ]
    },
    {
     "name": "stderr",
     "output_type": "stream",
     "text": [
      "                                                                      \r"
     ]
    },
    {
     "name": "stdout",
     "output_type": "stream",
     "text": [
      "Epoch 37/50\n"
     ]
    },
    {
     "name": "stderr",
     "output_type": "stream",
     "text": [
      "                                                                      \r"
     ]
    },
    {
     "name": "stdout",
     "output_type": "stream",
     "text": [
      "Epoch 38/50\n"
     ]
    },
    {
     "name": "stderr",
     "output_type": "stream",
     "text": [
      "                                                                      \r"
     ]
    },
    {
     "name": "stdout",
     "output_type": "stream",
     "text": [
      "Epoch 39/50\n"
     ]
    },
    {
     "name": "stderr",
     "output_type": "stream",
     "text": [
      "                                                                      \r"
     ]
    },
    {
     "name": "stdout",
     "output_type": "stream",
     "text": [
      "Epoch 40/50\n"
     ]
    },
    {
     "name": "stderr",
     "output_type": "stream",
     "text": [
      "                                                                      \r"
     ]
    },
    {
     "name": "stdout",
     "output_type": "stream",
     "text": [
      "Epoch 41/50\n"
     ]
    },
    {
     "name": "stderr",
     "output_type": "stream",
     "text": [
      "                                                                      \r"
     ]
    },
    {
     "name": "stdout",
     "output_type": "stream",
     "text": [
      "Epoch 42/50\n"
     ]
    },
    {
     "name": "stderr",
     "output_type": "stream",
     "text": [
      "                                                                      \r"
     ]
    },
    {
     "name": "stdout",
     "output_type": "stream",
     "text": [
      "Epoch 43/50\n"
     ]
    },
    {
     "name": "stderr",
     "output_type": "stream",
     "text": [
      "                                                                      \r"
     ]
    },
    {
     "name": "stdout",
     "output_type": "stream",
     "text": [
      "Epoch 44/50\n"
     ]
    },
    {
     "name": "stderr",
     "output_type": "stream",
     "text": [
      "                                                                      \r"
     ]
    },
    {
     "name": "stdout",
     "output_type": "stream",
     "text": [
      "Epoch 45/50\n"
     ]
    },
    {
     "name": "stderr",
     "output_type": "stream",
     "text": [
      "                                                                      \r"
     ]
    },
    {
     "name": "stdout",
     "output_type": "stream",
     "text": [
      "Epoch 46/50\n"
     ]
    },
    {
     "name": "stderr",
     "output_type": "stream",
     "text": [
      "                                                                      \r"
     ]
    },
    {
     "name": "stdout",
     "output_type": "stream",
     "text": [
      "Epoch 47/50\n"
     ]
    },
    {
     "name": "stderr",
     "output_type": "stream",
     "text": [
      "                                                                      \r"
     ]
    },
    {
     "name": "stdout",
     "output_type": "stream",
     "text": [
      "Epoch 48/50\n"
     ]
    },
    {
     "name": "stderr",
     "output_type": "stream",
     "text": [
      "                                                                      \r"
     ]
    },
    {
     "name": "stdout",
     "output_type": "stream",
     "text": [
      "Epoch 49/50\n"
     ]
    },
    {
     "name": "stderr",
     "output_type": "stream",
     "text": [
      "                                                                      \r"
     ]
    },
    {
     "name": "stdout",
     "output_type": "stream",
     "text": [
      "Epoch 50/50\n",
      "Training RBM8...\n"
     ]
    },
    {
     "name": "stderr",
     "output_type": "stream",
     "text": [
      "                                                                      \r"
     ]
    },
    {
     "name": "stdout",
     "output_type": "stream",
     "text": [
      "Epoch 1/50\n"
     ]
    },
    {
     "name": "stderr",
     "output_type": "stream",
     "text": [
      "                                                                      \r"
     ]
    },
    {
     "name": "stdout",
     "output_type": "stream",
     "text": [
      "Epoch 2/50\n"
     ]
    },
    {
     "name": "stderr",
     "output_type": "stream",
     "text": [
      "                                                                      \r"
     ]
    },
    {
     "name": "stdout",
     "output_type": "stream",
     "text": [
      "Epoch 3/50\n"
     ]
    },
    {
     "name": "stderr",
     "output_type": "stream",
     "text": [
      "                                                                      \r"
     ]
    },
    {
     "name": "stdout",
     "output_type": "stream",
     "text": [
      "Epoch 4/50\n"
     ]
    },
    {
     "name": "stderr",
     "output_type": "stream",
     "text": [
      "                                                                      \r"
     ]
    },
    {
     "name": "stdout",
     "output_type": "stream",
     "text": [
      "Epoch 5/50\n"
     ]
    },
    {
     "name": "stderr",
     "output_type": "stream",
     "text": [
      "                                                                      \r"
     ]
    },
    {
     "name": "stdout",
     "output_type": "stream",
     "text": [
      "Epoch 6/50\n"
     ]
    },
    {
     "name": "stderr",
     "output_type": "stream",
     "text": [
      "                                                                      \r"
     ]
    },
    {
     "name": "stdout",
     "output_type": "stream",
     "text": [
      "Epoch 7/50\n"
     ]
    },
    {
     "name": "stderr",
     "output_type": "stream",
     "text": [
      "                                                                      \r"
     ]
    },
    {
     "name": "stdout",
     "output_type": "stream",
     "text": [
      "Epoch 8/50\n"
     ]
    },
    {
     "name": "stderr",
     "output_type": "stream",
     "text": [
      "                                                                      \r"
     ]
    },
    {
     "name": "stdout",
     "output_type": "stream",
     "text": [
      "Epoch 9/50\n"
     ]
    },
    {
     "name": "stderr",
     "output_type": "stream",
     "text": [
      "                                                                      \r"
     ]
    },
    {
     "name": "stdout",
     "output_type": "stream",
     "text": [
      "Epoch 10/50\n"
     ]
    },
    {
     "name": "stderr",
     "output_type": "stream",
     "text": [
      "                                                                      \r"
     ]
    },
    {
     "name": "stdout",
     "output_type": "stream",
     "text": [
      "Epoch 11/50\n"
     ]
    },
    {
     "name": "stderr",
     "output_type": "stream",
     "text": [
      "                                                                      \r"
     ]
    },
    {
     "name": "stdout",
     "output_type": "stream",
     "text": [
      "Epoch 12/50\n"
     ]
    },
    {
     "name": "stderr",
     "output_type": "stream",
     "text": [
      "                                                                      \r"
     ]
    },
    {
     "name": "stdout",
     "output_type": "stream",
     "text": [
      "Epoch 13/50\n"
     ]
    },
    {
     "name": "stderr",
     "output_type": "stream",
     "text": [
      "                                                                      \r"
     ]
    },
    {
     "name": "stdout",
     "output_type": "stream",
     "text": [
      "Epoch 14/50\n"
     ]
    },
    {
     "name": "stderr",
     "output_type": "stream",
     "text": [
      "                                                                      \r"
     ]
    },
    {
     "name": "stdout",
     "output_type": "stream",
     "text": [
      "Epoch 15/50\n"
     ]
    },
    {
     "name": "stderr",
     "output_type": "stream",
     "text": [
      "                                                                      \r"
     ]
    },
    {
     "name": "stdout",
     "output_type": "stream",
     "text": [
      "Epoch 16/50\n"
     ]
    },
    {
     "name": "stderr",
     "output_type": "stream",
     "text": [
      "                                                                      \r"
     ]
    },
    {
     "name": "stdout",
     "output_type": "stream",
     "text": [
      "Epoch 17/50\n"
     ]
    },
    {
     "name": "stderr",
     "output_type": "stream",
     "text": [
      "                                                                      \r"
     ]
    },
    {
     "name": "stdout",
     "output_type": "stream",
     "text": [
      "Epoch 18/50\n"
     ]
    },
    {
     "name": "stderr",
     "output_type": "stream",
     "text": [
      "                                                                      \r"
     ]
    },
    {
     "name": "stdout",
     "output_type": "stream",
     "text": [
      "Epoch 19/50\n"
     ]
    },
    {
     "name": "stderr",
     "output_type": "stream",
     "text": [
      "                                                                      \r"
     ]
    },
    {
     "name": "stdout",
     "output_type": "stream",
     "text": [
      "Epoch 20/50\n"
     ]
    },
    {
     "name": "stderr",
     "output_type": "stream",
     "text": [
      "                                                                      \r"
     ]
    },
    {
     "name": "stdout",
     "output_type": "stream",
     "text": [
      "Epoch 21/50\n"
     ]
    },
    {
     "name": "stderr",
     "output_type": "stream",
     "text": [
      "                                                                      \r"
     ]
    },
    {
     "name": "stdout",
     "output_type": "stream",
     "text": [
      "Epoch 22/50\n"
     ]
    },
    {
     "name": "stderr",
     "output_type": "stream",
     "text": [
      "                                                                      \r"
     ]
    },
    {
     "name": "stdout",
     "output_type": "stream",
     "text": [
      "Epoch 23/50\n"
     ]
    },
    {
     "name": "stderr",
     "output_type": "stream",
     "text": [
      "                                                                      \r"
     ]
    },
    {
     "name": "stdout",
     "output_type": "stream",
     "text": [
      "Epoch 24/50\n"
     ]
    },
    {
     "name": "stderr",
     "output_type": "stream",
     "text": [
      "                                                                      \r"
     ]
    },
    {
     "name": "stdout",
     "output_type": "stream",
     "text": [
      "Epoch 25/50\n"
     ]
    },
    {
     "name": "stderr",
     "output_type": "stream",
     "text": [
      "                                                                      \r"
     ]
    },
    {
     "name": "stdout",
     "output_type": "stream",
     "text": [
      "Epoch 26/50\n"
     ]
    },
    {
     "name": "stderr",
     "output_type": "stream",
     "text": [
      "                                                                      \r"
     ]
    },
    {
     "name": "stdout",
     "output_type": "stream",
     "text": [
      "Epoch 27/50\n"
     ]
    },
    {
     "name": "stderr",
     "output_type": "stream",
     "text": [
      "                                                                      \r"
     ]
    },
    {
     "name": "stdout",
     "output_type": "stream",
     "text": [
      "Epoch 28/50\n"
     ]
    },
    {
     "name": "stderr",
     "output_type": "stream",
     "text": [
      "                                                                      \r"
     ]
    },
    {
     "name": "stdout",
     "output_type": "stream",
     "text": [
      "Epoch 29/50\n"
     ]
    },
    {
     "name": "stderr",
     "output_type": "stream",
     "text": [
      "                                                                      \r"
     ]
    },
    {
     "name": "stdout",
     "output_type": "stream",
     "text": [
      "Epoch 30/50\n"
     ]
    },
    {
     "name": "stderr",
     "output_type": "stream",
     "text": [
      "                                                                      \r"
     ]
    },
    {
     "name": "stdout",
     "output_type": "stream",
     "text": [
      "Epoch 31/50\n"
     ]
    },
    {
     "name": "stderr",
     "output_type": "stream",
     "text": [
      "                                                                      \r"
     ]
    },
    {
     "name": "stdout",
     "output_type": "stream",
     "text": [
      "Epoch 32/50\n"
     ]
    },
    {
     "name": "stderr",
     "output_type": "stream",
     "text": [
      "                                                                      \r"
     ]
    },
    {
     "name": "stdout",
     "output_type": "stream",
     "text": [
      "Epoch 33/50\n"
     ]
    },
    {
     "name": "stderr",
     "output_type": "stream",
     "text": [
      "                                                                      \r"
     ]
    },
    {
     "name": "stdout",
     "output_type": "stream",
     "text": [
      "Epoch 34/50\n"
     ]
    },
    {
     "name": "stderr",
     "output_type": "stream",
     "text": [
      "                                                                      \r"
     ]
    },
    {
     "name": "stdout",
     "output_type": "stream",
     "text": [
      "Epoch 35/50\n"
     ]
    },
    {
     "name": "stderr",
     "output_type": "stream",
     "text": [
      "                                                                      \r"
     ]
    },
    {
     "name": "stdout",
     "output_type": "stream",
     "text": [
      "Epoch 36/50\n"
     ]
    },
    {
     "name": "stderr",
     "output_type": "stream",
     "text": [
      "                                                                      \r"
     ]
    },
    {
     "name": "stdout",
     "output_type": "stream",
     "text": [
      "Epoch 37/50\n"
     ]
    },
    {
     "name": "stderr",
     "output_type": "stream",
     "text": [
      "                                                                      \r"
     ]
    },
    {
     "name": "stdout",
     "output_type": "stream",
     "text": [
      "Epoch 38/50\n"
     ]
    },
    {
     "name": "stderr",
     "output_type": "stream",
     "text": [
      "                                                                      \r"
     ]
    },
    {
     "name": "stdout",
     "output_type": "stream",
     "text": [
      "Epoch 39/50\n"
     ]
    },
    {
     "name": "stderr",
     "output_type": "stream",
     "text": [
      "                                                                      \r"
     ]
    },
    {
     "name": "stdout",
     "output_type": "stream",
     "text": [
      "Epoch 40/50\n"
     ]
    },
    {
     "name": "stderr",
     "output_type": "stream",
     "text": [
      "                                                                      \r"
     ]
    },
    {
     "name": "stdout",
     "output_type": "stream",
     "text": [
      "Epoch 41/50\n"
     ]
    },
    {
     "name": "stderr",
     "output_type": "stream",
     "text": [
      "                                                                      \r"
     ]
    },
    {
     "name": "stdout",
     "output_type": "stream",
     "text": [
      "Epoch 42/50\n"
     ]
    },
    {
     "name": "stderr",
     "output_type": "stream",
     "text": [
      "                                                                      \r"
     ]
    },
    {
     "name": "stdout",
     "output_type": "stream",
     "text": [
      "Epoch 43/50\n"
     ]
    },
    {
     "name": "stderr",
     "output_type": "stream",
     "text": [
      "                                                                      \r"
     ]
    },
    {
     "name": "stdout",
     "output_type": "stream",
     "text": [
      "Epoch 44/50\n"
     ]
    },
    {
     "name": "stderr",
     "output_type": "stream",
     "text": [
      "                                                                      \r"
     ]
    },
    {
     "name": "stdout",
     "output_type": "stream",
     "text": [
      "Epoch 45/50\n"
     ]
    },
    {
     "name": "stderr",
     "output_type": "stream",
     "text": [
      "                                                                      \r"
     ]
    },
    {
     "name": "stdout",
     "output_type": "stream",
     "text": [
      "Epoch 46/50\n"
     ]
    },
    {
     "name": "stderr",
     "output_type": "stream",
     "text": [
      "                                                                      \r"
     ]
    },
    {
     "name": "stdout",
     "output_type": "stream",
     "text": [
      "Epoch 47/50\n"
     ]
    },
    {
     "name": "stderr",
     "output_type": "stream",
     "text": [
      "                                                                      \r"
     ]
    },
    {
     "name": "stdout",
     "output_type": "stream",
     "text": [
      "Epoch 48/50\n"
     ]
    },
    {
     "name": "stderr",
     "output_type": "stream",
     "text": [
      "                                                                      \r"
     ]
    },
    {
     "name": "stdout",
     "output_type": "stream",
     "text": [
      "Epoch 49/50\n"
     ]
    },
    {
     "name": "stderr",
     "output_type": "stream",
     "text": [
      "                                                                      "
     ]
    },
    {
     "name": "stdout",
     "output_type": "stream",
     "text": [
      "Epoch 50/50\n"
     ]
    },
    {
     "name": "stderr",
     "output_type": "stream",
     "text": [
      "\r"
     ]
    }
   ],
   "source": [
    "from torchvision import datasets, transforms\n",
    "from torch.utils.data import TensorDataset, DataLoader\n",
    "\n",
    "\n",
    "visible_dim = 784  # For MNIST\n",
    "hidden_dim = 256  # Number of hidden neurons in RBM\n",
    "num_classes = 10  # Digits 0-9\n",
    "\n",
    "# Use GPU if available\n",
    "device = 'cuda' if torch.cuda.is_available() else 'cpu'\n",
    "print(f\"Using device: {device}\")\n",
    "\n",
    "# Initialize RBMs\n",
    "rbm4 = RBM(visible_dim, hidden_dim, k=4, lr=0.01, device=device)\n",
    "rbm8 = RBM(visible_dim, hidden_dim, k=8, lr=0.01, device=device)\n",
    "\n",
    "# Load the MNIST training and test data\n",
    "transform = transforms.Compose([transforms.ToTensor(), transforms.Lambda(lambda x: x.view(-1))])\n",
    "mnist_train_data = datasets.MNIST(root='./data', train=True, download=True, transform=transform)\n",
    "train_loader = torch.utils.data.DataLoader(mnist_train_data, batch_size=10, shuffle=True)\n",
    "\n",
    "print(\"Training RBM4...\")\n",
    "rbm4.train(train_loader, epochs=50)\n",
    "print(\"Training RBM8...\")\n",
    "rbm8.train(train_loader, epochs=50)"
   ]
  },
  {
   "cell_type": "markdown",
   "id": "d91a4a3c",
   "metadata": {},
   "source": [
    "Once we have the trained RBMs we need to create an encoding of MNIST dataset using their hidden neurons. We encode the MNIST twice, one time for each RBM and we will use these encodings to train a couple of simple classifiers. Their performances will reflect the RBMs' encodings quality.\n",
    "\n",
    "The following code block will show the implementation of the encoding function and its call. The code block after will show the implementation of the classifier and its training loop, with its training phase and evaluation phase."
   ]
  },
  {
   "cell_type": "code",
   "execution_count": 8,
   "id": "a87ce4e3",
   "metadata": {},
   "outputs": [],
   "source": [
    "def encode_dataset(rbm, data_loader, device):\n",
    "    # Lists to store encodings and labels\n",
    "    encodings = []\n",
    "    labels = []\n",
    "\n",
    "    # Iterate through the dataset\n",
    "    for batch, batch_labels in data_loader:\n",
    "        batch = batch.to(device)  # Move to the correct device\n",
    "        # Compute hidden neuron activations for the entire batch\n",
    "        hidden_activations = rbm.visible_to_hidden(batch)\n",
    "        encodings.append(hidden_activations.cpu())  # Store encodings\n",
    "        labels.append(batch_labels)  # Store labels\n",
    "\n",
    "    # Concatenate all batches into a single tensor\n",
    "    encodings = torch.cat(encodings, dim=0)\n",
    "    labels = torch.cat(labels, dim=0)\n",
    "\n",
    "    return encodings, labels\n",
    "\n",
    "############################################################\n",
    "\n",
    "mnist_test_data = datasets.MNIST(root='./data', train=False, download=True, transform=transform)\n",
    "test_loader = torch.utils.data.DataLoader(mnist_test_data, batch_size=10, shuffle=False)\n",
    "\n",
    "rbm4_train_encodings, rbm4_train_labels = encode_dataset(rbm4, train_loader, device)\n",
    "rbm4_test_encodings, rbm4_test_labels = encode_dataset(rbm4, test_loader, device)\n",
    "\n",
    "rbm8_train_encodings, rbm8_train_labels = encode_dataset(rbm8, train_loader, device)\n",
    "rbm8_test_encodings, rbm8_test_labels = encode_dataset(rbm8, test_loader, device)"
   ]
  },
  {
   "cell_type": "code",
   "execution_count": 9,
   "id": "baef572a",
   "metadata": {},
   "outputs": [
    {
     "name": "stdout",
     "output_type": "stream",
     "text": [
      "Training classifier...\n",
      "Epoch [1/40], Loss: 208.2376\n",
      "Epoch [2/40], Loss: 85.2166\n",
      "Epoch [3/40], Loss: 66.9309\n",
      "Epoch [4/40], Loss: 57.7720\n",
      "Epoch [5/40], Loss: 49.6877\n",
      "Epoch [6/40], Loss: 44.3337\n",
      "Epoch [7/40], Loss: 38.9533\n",
      "Epoch [8/40], Loss: 35.1131\n",
      "Epoch [9/40], Loss: 31.8776\n",
      "Epoch [10/40], Loss: 28.6864\n",
      "Epoch [11/40], Loss: 25.8670\n",
      "Epoch [12/40], Loss: 23.3815\n",
      "Epoch [13/40], Loss: 21.1571\n",
      "Epoch [14/40], Loss: 19.3428\n",
      "Epoch [15/40], Loss: 17.7163\n",
      "Epoch [16/40], Loss: 15.5124\n",
      "Epoch [17/40], Loss: 14.0166\n",
      "Epoch [18/40], Loss: 12.6812\n",
      "Epoch [19/40], Loss: 11.3757\n",
      "Epoch [20/40], Loss: 10.7367\n",
      "Epoch [21/40], Loss: 9.0202\n",
      "Epoch [22/40], Loss: 8.3779\n",
      "Epoch [23/40], Loss: 7.6348\n",
      "Epoch [24/40], Loss: 6.7234\n",
      "Epoch [25/40], Loss: 6.0694\n",
      "Epoch [26/40], Loss: 4.8651\n",
      "Epoch [27/40], Loss: 5.1208\n",
      "Epoch [28/40], Loss: 4.2707\n",
      "Epoch [29/40], Loss: 4.2519\n",
      "Epoch [30/40], Loss: 3.9209\n",
      "Epoch [31/40], Loss: 3.2159\n",
      "Epoch [32/40], Loss: 2.7018\n",
      "Epoch [33/40], Loss: 2.4247\n",
      "Epoch [34/40], Loss: 2.3134\n",
      "Epoch [35/40], Loss: 2.3919\n",
      "Epoch [36/40], Loss: 2.5207\n",
      "Epoch [37/40], Loss: 1.8025\n",
      "Epoch [38/40], Loss: 2.1928\n",
      "Epoch [39/40], Loss: 1.7883\n",
      "Epoch [40/40], Loss: 1.6860\n",
      "Training classifier...\n",
      "Epoch [1/40], Loss: 199.2419\n",
      "Epoch [2/40], Loss: 83.1397\n",
      "Epoch [3/40], Loss: 66.9562\n",
      "Epoch [4/40], Loss: 56.8201\n",
      "Epoch [5/40], Loss: 49.9686\n",
      "Epoch [6/40], Loss: 43.7816\n",
      "Epoch [7/40], Loss: 39.0073\n",
      "Epoch [8/40], Loss: 34.9386\n",
      "Epoch [9/40], Loss: 31.4500\n",
      "Epoch [10/40], Loss: 28.1270\n",
      "Epoch [11/40], Loss: 25.3963\n",
      "Epoch [12/40], Loss: 22.8303\n",
      "Epoch [13/40], Loss: 20.5123\n",
      "Epoch [14/40], Loss: 18.3475\n",
      "Epoch [15/40], Loss: 16.4928\n",
      "Epoch [16/40], Loss: 14.3909\n",
      "Epoch [17/40], Loss: 13.0439\n",
      "Epoch [18/40], Loss: 11.4619\n",
      "Epoch [19/40], Loss: 10.5741\n",
      "Epoch [20/40], Loss: 9.2063\n",
      "Epoch [21/40], Loss: 7.9753\n",
      "Epoch [22/40], Loss: 6.8901\n",
      "Epoch [23/40], Loss: 6.5366\n",
      "Epoch [24/40], Loss: 5.6188\n",
      "Epoch [25/40], Loss: 5.2841\n",
      "Epoch [26/40], Loss: 4.7498\n",
      "Epoch [27/40], Loss: 3.9876\n",
      "Epoch [28/40], Loss: 3.6205\n",
      "Epoch [29/40], Loss: 3.2409\n",
      "Epoch [30/40], Loss: 2.8937\n",
      "Epoch [31/40], Loss: 3.0478\n",
      "Epoch [32/40], Loss: 2.3338\n",
      "Epoch [33/40], Loss: 2.3289\n",
      "Epoch [34/40], Loss: 2.2108\n",
      "Epoch [35/40], Loss: 1.6909\n",
      "Epoch [36/40], Loss: 2.0673\n",
      "Epoch [37/40], Loss: 2.7681\n",
      "Epoch [38/40], Loss: 1.0548\n",
      "Epoch [39/40], Loss: 0.7513\n",
      "Epoch [40/40], Loss: 1.3939\n",
      "Classifier4 accuracy: 0.9790\n",
      "Classifier8 accuracy: 0.9792\n"
     ]
    }
   ],
   "source": [
    "import torch.nn as nn\n",
    "import torch.optim as optim\n",
    "\n",
    "\n",
    "class MNISTClassifier(nn.Module):\n",
    "    def __init__(self, input_dim, num_classes):\n",
    "        super(MNISTClassifier, self).__init__()\n",
    "        self.fc1 = nn.Linear(input_dim, 128)\n",
    "        self.fc2 = nn.Linear(128, num_classes)\n",
    "\n",
    "    def forward(self, x):\n",
    "        x = torch.relu(self.fc1(x))\n",
    "        return self.fc2(x)\n",
    "    \n",
    "\n",
    "def train_classifier_on_mnist(train_loader, input_dim, num_classes, device, num_epochs=40, lr=0.001):\n",
    "    # Define the classifier\n",
    "    classifier = MNISTClassifier(input_dim, num_classes).to(device)\n",
    "\n",
    "    # Define loss function and optimizer\n",
    "    criterion = nn.CrossEntropyLoss()\n",
    "    optimizer = optim.Adam(classifier.parameters(), lr=lr)\n",
    "\n",
    "    # Training loop\n",
    "    print(\"Training classifier...\")\n",
    "    for epoch in range(num_epochs):\n",
    "        classifier.train()\n",
    "        epoch_loss = 0\n",
    "        for batch, labels in train_loader:\n",
    "            batch, labels = batch.to(device), labels.to(device)\n",
    "            optimizer.zero_grad()\n",
    "            outputs = classifier(batch)\n",
    "            loss = criterion(outputs, labels)\n",
    "            loss.backward()\n",
    "            optimizer.step()\n",
    "            epoch_loss += loss.item()\n",
    "        print(f\"Epoch [{epoch + 1}/{num_epochs}], Loss: {epoch_loss:.4f}\")\n",
    "\n",
    "    return classifier\n",
    "\n",
    "\n",
    "def evaluate_classifier(classifier, test_loader, device):\n",
    "    classifier.eval()  # Set the classifier to evaluation mode\n",
    "    correct = 0\n",
    "    total = 0\n",
    "\n",
    "    with torch.no_grad():  # Disable gradient computation for evaluation\n",
    "        for batch, labels in test_loader:\n",
    "            batch, labels = batch.to(device), labels.to(device)\n",
    "            outputs = classifier(batch)\n",
    "            _, predicted = torch.max(outputs, 1)  # Get the class with the highest score\n",
    "            correct += (predicted == labels).sum().item()\n",
    "            total += labels.size(0)\n",
    "\n",
    "    accuracy = correct / total\n",
    "    return accuracy\n",
    "\n",
    "#############################################################################\n",
    "\n",
    "# Train classifiers on RBM-encoded datasets\n",
    "rbm4_train_dataset = TensorDataset(rbm4_train_encodings, rbm4_train_labels)\n",
    "rbm4_train_loader = DataLoader(rbm4_train_dataset, batch_size=100, shuffle=True)\n",
    "classifier4 = train_classifier_on_mnist(rbm4_train_loader, hidden_dim, num_classes, device)\n",
    "\n",
    "rbm8_train_dataset = TensorDataset(rbm8_train_encodings, rbm8_train_labels)\n",
    "rbm8_train_loader = DataLoader(rbm8_train_dataset, batch_size=100, shuffle=True)\n",
    "classifier8 = train_classifier_on_mnist(rbm8_train_loader, hidden_dim, num_classes, device)\n",
    "\n",
    "# Evaluate the classifiers on the MNIST test data encodings\n",
    "rbm4_test_dataset = TensorDataset(rbm4_test_encodings, rbm8_test_labels)\n",
    "rbm4_test_loader = DataLoader(rbm4_test_dataset, batch_size=100, shuffle=False)\n",
    "accuracy4 = evaluate_classifier(classifier4, rbm4_test_loader, device)\n",
    "print(f\"Classifier4 accuracy: {accuracy4:.4f}\")\n",
    "\n",
    "rbm8_test_dataset = TensorDataset(rbm8_test_encodings, rbm8_test_labels)\n",
    "rbm8_test_loader = DataLoader(rbm8_test_dataset, batch_size=100, shuffle=False)\n",
    "accuracy8 = evaluate_classifier(classifier8, rbm8_test_loader, device)\n",
    "print(f\"Classifier8 accuracy: {accuracy8:.4f}\")"
   ]
  },
  {
   "cell_type": "markdown",
   "id": "5c083579",
   "metadata": {},
   "source": [
    "After training and testing the classifiers, we can see that the accuracy obtained during the testing phase is about the same: 97.90% for RBM with CD-4 and 97.92% for RBM with CD-8. As explained during the lessons, in practice CD with values ​​of k different from 1 does not apport particular advantages and is rarely used, in fact, by training an RBM and using CD-1, we can notice how the final results obtained do not differ too much from the previous ones (accuracy 97.95%)."
   ]
  },
  {
   "cell_type": "code",
   "execution_count": null,
   "id": "94e34940",
   "metadata": {},
   "outputs": [
    {
     "name": "stdout",
     "output_type": "stream",
     "text": [
      "RBM1 test...\n"
     ]
    },
    {
     "name": "stderr",
     "output_type": "stream",
     "text": [
      "                                                                       \r"
     ]
    },
    {
     "name": "stdout",
     "output_type": "stream",
     "text": [
      "Epoch 1/50\n"
     ]
    },
    {
     "name": "stderr",
     "output_type": "stream",
     "text": [
      "                                                                       \r"
     ]
    },
    {
     "name": "stdout",
     "output_type": "stream",
     "text": [
      "Epoch 2/50\n"
     ]
    },
    {
     "name": "stderr",
     "output_type": "stream",
     "text": [
      "                                                                      \r"
     ]
    },
    {
     "name": "stdout",
     "output_type": "stream",
     "text": [
      "Epoch 3/50\n"
     ]
    },
    {
     "name": "stderr",
     "output_type": "stream",
     "text": [
      "                                                                      \r"
     ]
    },
    {
     "name": "stdout",
     "output_type": "stream",
     "text": [
      "Epoch 4/50\n"
     ]
    },
    {
     "name": "stderr",
     "output_type": "stream",
     "text": [
      "                                                                      \r"
     ]
    },
    {
     "name": "stdout",
     "output_type": "stream",
     "text": [
      "Epoch 5/50\n"
     ]
    },
    {
     "name": "stderr",
     "output_type": "stream",
     "text": [
      "                                                                      \r"
     ]
    },
    {
     "name": "stdout",
     "output_type": "stream",
     "text": [
      "Epoch 6/50\n"
     ]
    },
    {
     "name": "stderr",
     "output_type": "stream",
     "text": [
      "                                                                      \r"
     ]
    },
    {
     "name": "stdout",
     "output_type": "stream",
     "text": [
      "Epoch 7/50\n"
     ]
    },
    {
     "name": "stderr",
     "output_type": "stream",
     "text": [
      "                                                                      \r"
     ]
    },
    {
     "name": "stdout",
     "output_type": "stream",
     "text": [
      "Epoch 8/50\n"
     ]
    },
    {
     "name": "stderr",
     "output_type": "stream",
     "text": [
      "                                                                      \r"
     ]
    },
    {
     "name": "stdout",
     "output_type": "stream",
     "text": [
      "Epoch 9/50\n"
     ]
    },
    {
     "name": "stderr",
     "output_type": "stream",
     "text": [
      "                                                                      \r"
     ]
    },
    {
     "name": "stdout",
     "output_type": "stream",
     "text": [
      "Epoch 10/50\n"
     ]
    },
    {
     "name": "stderr",
     "output_type": "stream",
     "text": [
      "                                                                      \r"
     ]
    },
    {
     "name": "stdout",
     "output_type": "stream",
     "text": [
      "Epoch 11/50\n"
     ]
    },
    {
     "name": "stderr",
     "output_type": "stream",
     "text": [
      "                                                                      \r"
     ]
    },
    {
     "name": "stdout",
     "output_type": "stream",
     "text": [
      "Epoch 12/50\n"
     ]
    },
    {
     "name": "stderr",
     "output_type": "stream",
     "text": [
      "                                                                      \r"
     ]
    },
    {
     "name": "stdout",
     "output_type": "stream",
     "text": [
      "Epoch 13/50\n"
     ]
    },
    {
     "name": "stderr",
     "output_type": "stream",
     "text": [
      "                                                                      \r"
     ]
    },
    {
     "name": "stdout",
     "output_type": "stream",
     "text": [
      "Epoch 14/50\n"
     ]
    },
    {
     "name": "stderr",
     "output_type": "stream",
     "text": [
      "                                                                      \r"
     ]
    },
    {
     "name": "stdout",
     "output_type": "stream",
     "text": [
      "Epoch 15/50\n"
     ]
    },
    {
     "name": "stderr",
     "output_type": "stream",
     "text": [
      "                                                                      \r"
     ]
    },
    {
     "name": "stdout",
     "output_type": "stream",
     "text": [
      "Epoch 16/50\n"
     ]
    },
    {
     "name": "stderr",
     "output_type": "stream",
     "text": [
      "                                                                      \r"
     ]
    },
    {
     "name": "stdout",
     "output_type": "stream",
     "text": [
      "Epoch 17/50\n"
     ]
    },
    {
     "name": "stderr",
     "output_type": "stream",
     "text": [
      "                                                                       \r"
     ]
    },
    {
     "name": "stdout",
     "output_type": "stream",
     "text": [
      "Epoch 18/50\n"
     ]
    },
    {
     "name": "stderr",
     "output_type": "stream",
     "text": [
      "                                                                       \r"
     ]
    },
    {
     "name": "stdout",
     "output_type": "stream",
     "text": [
      "Epoch 19/50\n"
     ]
    },
    {
     "name": "stderr",
     "output_type": "stream",
     "text": [
      "                                                                      \r"
     ]
    },
    {
     "name": "stdout",
     "output_type": "stream",
     "text": [
      "Epoch 20/50\n"
     ]
    },
    {
     "name": "stderr",
     "output_type": "stream",
     "text": [
      "                                                                      \r"
     ]
    },
    {
     "name": "stdout",
     "output_type": "stream",
     "text": [
      "Epoch 21/50\n"
     ]
    },
    {
     "name": "stderr",
     "output_type": "stream",
     "text": [
      "                                                                       \r"
     ]
    },
    {
     "name": "stdout",
     "output_type": "stream",
     "text": [
      "Epoch 22/50\n"
     ]
    },
    {
     "name": "stderr",
     "output_type": "stream",
     "text": [
      "                                                                      \r"
     ]
    },
    {
     "name": "stdout",
     "output_type": "stream",
     "text": [
      "Epoch 23/50\n"
     ]
    },
    {
     "name": "stderr",
     "output_type": "stream",
     "text": [
      "                                                                       \r"
     ]
    },
    {
     "name": "stdout",
     "output_type": "stream",
     "text": [
      "Epoch 24/50\n"
     ]
    },
    {
     "name": "stderr",
     "output_type": "stream",
     "text": [
      "                                                                      \r"
     ]
    },
    {
     "name": "stdout",
     "output_type": "stream",
     "text": [
      "Epoch 25/50\n"
     ]
    },
    {
     "name": "stderr",
     "output_type": "stream",
     "text": [
      "                                                                      \r"
     ]
    },
    {
     "name": "stdout",
     "output_type": "stream",
     "text": [
      "Epoch 26/50\n"
     ]
    },
    {
     "name": "stderr",
     "output_type": "stream",
     "text": [
      "                                                                       \r"
     ]
    },
    {
     "name": "stdout",
     "output_type": "stream",
     "text": [
      "Epoch 27/50\n"
     ]
    },
    {
     "name": "stderr",
     "output_type": "stream",
     "text": [
      "                                                                       \r"
     ]
    },
    {
     "name": "stdout",
     "output_type": "stream",
     "text": [
      "Epoch 28/50\n"
     ]
    },
    {
     "name": "stderr",
     "output_type": "stream",
     "text": [
      "                                                                       \r"
     ]
    },
    {
     "name": "stdout",
     "output_type": "stream",
     "text": [
      "Epoch 29/50\n"
     ]
    },
    {
     "name": "stderr",
     "output_type": "stream",
     "text": [
      "                                                                       \r"
     ]
    },
    {
     "name": "stdout",
     "output_type": "stream",
     "text": [
      "Epoch 30/50\n"
     ]
    },
    {
     "name": "stderr",
     "output_type": "stream",
     "text": [
      "                                                                       \r"
     ]
    },
    {
     "name": "stdout",
     "output_type": "stream",
     "text": [
      "Epoch 31/50\n"
     ]
    },
    {
     "name": "stderr",
     "output_type": "stream",
     "text": [
      "                                                                       \r"
     ]
    },
    {
     "name": "stdout",
     "output_type": "stream",
     "text": [
      "Epoch 32/50\n"
     ]
    },
    {
     "name": "stderr",
     "output_type": "stream",
     "text": [
      "                                                                       \r"
     ]
    },
    {
     "name": "stdout",
     "output_type": "stream",
     "text": [
      "Epoch 33/50\n"
     ]
    },
    {
     "name": "stderr",
     "output_type": "stream",
     "text": [
      "                                                                       \r"
     ]
    },
    {
     "name": "stdout",
     "output_type": "stream",
     "text": [
      "Epoch 34/50\n"
     ]
    },
    {
     "name": "stderr",
     "output_type": "stream",
     "text": [
      "                                                                      \r"
     ]
    },
    {
     "name": "stdout",
     "output_type": "stream",
     "text": [
      "Epoch 35/50\n"
     ]
    },
    {
     "name": "stderr",
     "output_type": "stream",
     "text": [
      "                                                                       \r"
     ]
    },
    {
     "name": "stdout",
     "output_type": "stream",
     "text": [
      "Epoch 36/50\n"
     ]
    },
    {
     "name": "stderr",
     "output_type": "stream",
     "text": [
      "                                                                       \r"
     ]
    },
    {
     "name": "stdout",
     "output_type": "stream",
     "text": [
      "Epoch 37/50\n"
     ]
    },
    {
     "name": "stderr",
     "output_type": "stream",
     "text": [
      "                                                                      \r"
     ]
    },
    {
     "name": "stdout",
     "output_type": "stream",
     "text": [
      "Epoch 38/50\n"
     ]
    },
    {
     "name": "stderr",
     "output_type": "stream",
     "text": [
      "                                                                       \r"
     ]
    },
    {
     "name": "stdout",
     "output_type": "stream",
     "text": [
      "Epoch 39/50\n"
     ]
    },
    {
     "name": "stderr",
     "output_type": "stream",
     "text": [
      "                                                                       \r"
     ]
    },
    {
     "name": "stdout",
     "output_type": "stream",
     "text": [
      "Epoch 40/50\n"
     ]
    },
    {
     "name": "stderr",
     "output_type": "stream",
     "text": [
      "                                                                      \r"
     ]
    },
    {
     "name": "stdout",
     "output_type": "stream",
     "text": [
      "Epoch 41/50\n"
     ]
    },
    {
     "name": "stderr",
     "output_type": "stream",
     "text": [
      "                                                                       \r"
     ]
    },
    {
     "name": "stdout",
     "output_type": "stream",
     "text": [
      "Epoch 42/50\n"
     ]
    },
    {
     "name": "stderr",
     "output_type": "stream",
     "text": [
      "                                                                       \r"
     ]
    },
    {
     "name": "stdout",
     "output_type": "stream",
     "text": [
      "Epoch 43/50\n"
     ]
    },
    {
     "name": "stderr",
     "output_type": "stream",
     "text": [
      "                                                                      \r"
     ]
    },
    {
     "name": "stdout",
     "output_type": "stream",
     "text": [
      "Epoch 44/50\n"
     ]
    },
    {
     "name": "stderr",
     "output_type": "stream",
     "text": [
      "                                                                       \r"
     ]
    },
    {
     "name": "stdout",
     "output_type": "stream",
     "text": [
      "Epoch 45/50\n"
     ]
    },
    {
     "name": "stderr",
     "output_type": "stream",
     "text": [
      "                                                                       \r"
     ]
    },
    {
     "name": "stdout",
     "output_type": "stream",
     "text": [
      "Epoch 46/50\n"
     ]
    },
    {
     "name": "stderr",
     "output_type": "stream",
     "text": [
      "                                                                       \r"
     ]
    },
    {
     "name": "stdout",
     "output_type": "stream",
     "text": [
      "Epoch 47/50\n"
     ]
    },
    {
     "name": "stderr",
     "output_type": "stream",
     "text": [
      "                                                                       \r"
     ]
    },
    {
     "name": "stdout",
     "output_type": "stream",
     "text": [
      "Epoch 48/50\n"
     ]
    },
    {
     "name": "stderr",
     "output_type": "stream",
     "text": [
      "                                                                       \r"
     ]
    },
    {
     "name": "stdout",
     "output_type": "stream",
     "text": [
      "Epoch 49/50\n"
     ]
    },
    {
     "name": "stderr",
     "output_type": "stream",
     "text": [
      "                                                                       \r"
     ]
    },
    {
     "name": "stdout",
     "output_type": "stream",
     "text": [
      "Epoch 50/50\n",
      "Training classifier...\n",
      "Epoch [1/40], Loss: 217.3591\n",
      "Epoch [2/40], Loss: 97.1386\n",
      "Epoch [3/40], Loss: 75.9968\n",
      "Epoch [4/40], Loss: 63.2306\n",
      "Epoch [5/40], Loss: 54.3591\n",
      "Epoch [6/40], Loss: 48.2648\n",
      "Epoch [7/40], Loss: 42.8074\n",
      "Epoch [8/40], Loss: 38.5775\n",
      "Epoch [9/40], Loss: 34.0832\n",
      "Epoch [10/40], Loss: 31.0952\n",
      "Epoch [11/40], Loss: 28.3885\n",
      "Epoch [12/40], Loss: 25.4651\n",
      "Epoch [13/40], Loss: 23.3352\n",
      "Epoch [14/40], Loss: 20.6842\n",
      "Epoch [15/40], Loss: 19.4512\n",
      "Epoch [16/40], Loss: 17.4249\n",
      "Epoch [17/40], Loss: 16.0055\n",
      "Epoch [18/40], Loss: 14.2375\n",
      "Epoch [19/40], Loss: 13.3275\n",
      "Epoch [20/40], Loss: 12.3588\n",
      "Epoch [21/40], Loss: 10.8668\n",
      "Epoch [22/40], Loss: 10.6986\n",
      "Epoch [23/40], Loss: 9.2658\n",
      "Epoch [24/40], Loss: 8.5722\n",
      "Epoch [25/40], Loss: 7.7471\n",
      "Epoch [26/40], Loss: 6.8541\n",
      "Epoch [27/40], Loss: 6.7314\n",
      "Epoch [28/40], Loss: 5.9326\n",
      "Epoch [29/40], Loss: 5.9945\n",
      "Epoch [30/40], Loss: 5.0099\n",
      "Epoch [31/40], Loss: 4.4233\n",
      "Epoch [32/40], Loss: 4.6791\n",
      "Epoch [33/40], Loss: 3.9259\n",
      "Epoch [34/40], Loss: 3.8386\n",
      "Epoch [35/40], Loss: 3.5290\n",
      "Epoch [36/40], Loss: 3.4703\n",
      "Epoch [37/40], Loss: 3.1462\n",
      "Epoch [38/40], Loss: 3.1797\n",
      "Epoch [39/40], Loss: 2.4067\n",
      "Epoch [40/40], Loss: 2.7463\n",
      "Classifier1 accuracy: 0.9795\n"
     ]
    }
   ],
   "source": [
    "# Initialize RBM1\n",
    "rbm1 = RBM(visible_dim, hidden_dim, k=1, lr=0.01, device=device)\n",
    "\n",
    "print(\"RBM1 test...\")\n",
    "rbm1.train(train_loader, epochs=50)\n",
    "\n",
    "rbm1_train_encodings, rbm1_train_labels = encode_dataset(rbm1, train_loader, device)\n",
    "rbm1_test_encodings, rbm1_test_labels = encode_dataset(rbm1, test_loader, device)\n",
    "\n",
    "rbm1_train_dataset = TensorDataset(rbm1_train_encodings, rbm1_train_labels)\n",
    "rbm1_train_loader = DataLoader(rbm1_train_dataset, batch_size=100, shuffle=True)\n",
    "classifier1 = train_classifier_on_mnist(rbm1_train_loader, hidden_dim, num_classes, device)\n",
    "\n",
    "# Evaluate the classifiers on the MNIST test data encodings\n",
    "rbm1_test_dataset = TensorDataset(rbm1_test_encodings, rbm1_test_labels)\n",
    "rbm1_test_loader = DataLoader(rbm1_test_dataset, batch_size=100, shuffle=False)\n",
    "accuracy1 = evaluate_classifier(classifier1, rbm1_test_loader, device)\n",
    "print(f\"Classifier1 accuracy: {accuracy1:.4f}\")"
   ]
  }
 ],
 "metadata": {
  "kernelspec": {
   "display_name": "mid2_venv",
   "language": "python",
   "name": "mid2_venv"
  },
  "language_info": {
   "codemirror_mode": {
    "name": "ipython",
    "version": 3
   },
   "file_extension": ".py",
   "mimetype": "text/x-python",
   "name": "python",
   "nbconvert_exporter": "python",
   "pygments_lexer": "ipython3",
   "version": "3.11.8"
  }
 },
 "nbformat": 4,
 "nbformat_minor": 5
}
