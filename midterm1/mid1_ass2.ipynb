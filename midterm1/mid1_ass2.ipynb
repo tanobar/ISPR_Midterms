{
 "cells": [
  {
   "cell_type": "code",
   "execution_count": 117,
   "metadata": {},
   "outputs": [],
   "source": [
    "import pywt\n",
    "import numpy as np\n",
    "import pandas as pd\n",
    "from sklearn.preprocessing import StandardScaler\n",
    "import matplotlib.pyplot as plt"
   ]
  },
  {
   "cell_type": "code",
   "execution_count": 118,
   "metadata": {},
   "outputs": [],
   "source": [
    "def clean_data(data, fs = 52):\n",
    "    #remove the last column, which is the activity label\n",
    "    data = data.iloc[:, :-1]\n",
    "\n",
    "    # Compute time based on the sampling frequency of 52 hz\n",
    "    sample_numbers = np.arange(len(data))\n",
    "    time = sample_numbers / fs  # Time in seconds\n",
    "\n",
    "    # Add or update the 'Time' column\n",
    "    data['Time'] = time\n",
    "\n",
    "    # Normalize the data (zero mean, unit variance)\n",
    "    scaler = StandardScaler()\n",
    "    data[['X', 'Y', 'Z']] = scaler.fit_transform(data[['X', 'Y', 'Z']])\n",
    "\n",
    "    return data"
   ]
  },
  {
   "cell_type": "code",
   "execution_count": 119,
   "metadata": {},
   "outputs": [],
   "source": [
    "def plot_time_series(data, activity):\n",
    "    \"\"\"\n",
    "    Plots the 3 channels of the time series data.\n",
    "\n",
    "    Parameters:\n",
    "    data (pandas.DataFrame): The time series data.\n",
    "    activity (str): The activity name to be used in the title.\n",
    "    \"\"\"\n",
    "    # Create subplots\n",
    "    fig, axes = plt.subplots(3, 1, figsize=(12, 8), sharex=True)\n",
    "\n",
    "    # Plot X-axis acceleration\n",
    "    axes[0].plot(data['Time'], data['X'], color='r', label=\"X-axis\")\n",
    "    axes[0].set_ylabel(\"Acceleration (X)\")\n",
    "    axes[0].legend()\n",
    "    axes[0].grid()\n",
    "\n",
    "    # Plot Y-axis acceleration\n",
    "    axes[1].plot(data['Time'], data['Y'], color='g', label=\"Y-axis\")\n",
    "    axes[1].set_ylabel(\"Acceleration (Y)\")\n",
    "    axes[1].legend()\n",
    "    axes[1].grid()\n",
    "\n",
    "    # Plot Z-axis acceleration\n",
    "    axes[2].plot(data['Time'], data['Z'], color='b', label=\"Z-axis\")\n",
    "    axes[2].set_xlabel(\"Time (s)\")\n",
    "    axes[2].set_ylabel(\"Acceleration (Z)\")\n",
    "    axes[2].legend()\n",
    "    axes[2].grid()\n",
    "\n",
    "    # Title for the whole figure\n",
    "    plt.suptitle(f\"Accelerometer Time Series ({activity})\")\n",
    "\n",
    "    # Show plot\n",
    "    plt.show()"
   ]
  },
  {
   "cell_type": "code",
   "execution_count": 120,
   "metadata": {},
   "outputs": [],
   "source": [
    "def plot_cwt_spectrograms(data, wavelet, activity, fs=52):\n",
    "    \"\"\"\n",
    "    Plots the Continuous Wavelet Transform (CWT) spectrograms for the given time series data.\n",
    "\n",
    "    Parameters:\n",
    "    data (pandas.DataFrame): The time series data with columns 'Time', 'X', 'Y', and 'Z'.\n",
    "    wavelet (str): The wavelet to use for CWT (e.g., 'mexh' for Mexican Hat).\n",
    "    activity (str): The activity name to be used in the title.\n",
    "    fs (float): The sampling frequency in Hz. Default is 52 Hz.\n",
    "    \"\"\"\n",
    "    # Define scales and frequencies for CWT\n",
    "    f_min, f_max = 1, 26  # Frequency range of interest\n",
    "    f_c = 0.25  # Center frequency for Mexican Hat wavelet\n",
    "\n",
    "    # Convert frequencies to scales\n",
    "    scales = f_c * fs / np.array([f_max, f_min])\n",
    "    scales = np.linspace(scales[0], scales[1], num=100)  # 100 scales\n",
    "\n",
    "    # Perform CWT for each signal\n",
    "    coeff_x, freq_x = pywt.cwt(data['X'], scales, wavelet, sampling_period=1/fs)\n",
    "    coeff_y, freq_y = pywt.cwt(data['Y'], scales, wavelet, sampling_period=1/fs)\n",
    "    coeff_z, freq_z = pywt.cwt(data['Z'], scales, wavelet, sampling_period=1/fs)\n",
    "\n",
    "    # Plot CWT spectrograms (scalograms)\n",
    "    fig, axes = plt.subplots(3, 1, figsize=(12, 9), sharex=True)\n",
    "\n",
    "    # X-axis scalogram\n",
    "    cax_x = axes[0].imshow(np.abs(coeff_x), aspect='auto', extent=[data['Time'].min(), data['Time'].max(), freq_x.max(), freq_x.min()], cmap='jet')\n",
    "    axes[0].set_title(\"CWT Scalogram - X Axis\")\n",
    "    axes[0].set_ylabel(\"Frequency (Hz)\")\n",
    "    axes[0].grid()\n",
    "    fig.colorbar(cax_x, ax=axes[0], orientation='vertical', label='Coefficient Magnitude')\n",
    "\n",
    "    # Y-axis scalogram\n",
    "    cax_y = axes[1].imshow(np.abs(coeff_y), aspect='auto', extent=[data['Time'].min(), data['Time'].max(), freq_y.max(), freq_y.min()], cmap='jet')\n",
    "    axes[1].set_title(\"CWT Scalogram - Y Axis\")\n",
    "    axes[1].set_ylabel(\"Frequency (Hz)\")\n",
    "    axes[1].grid()\n",
    "    fig.colorbar(cax_y, ax=axes[1], orientation='vertical', label='Coefficient Magnitude')\n",
    "\n",
    "    # Z-axis scalogram\n",
    "    cax_z = axes[2].imshow(np.abs(coeff_z), aspect='auto', extent=[data['Time'].min(), data['Time'].max(), freq_z.max(), freq_z.min()], cmap='jet')\n",
    "    axes[2].set_title(\"CWT Scalogram - Z Axis\")\n",
    "    axes[2].set_ylabel(\"Frequency (Hz)\")\n",
    "    axes[2].set_xlabel(\"Time (s)\")\n",
    "    axes[2].grid()\n",
    "    fig.colorbar(cax_z, ax=axes[2], orientation='vertical', label='Coefficient Magnitude')\n",
    "\n",
    "    # Title for the whole figure\n",
    "    plt.suptitle(f\"CWT Spectrograms ({activity})\")\n",
    "\n",
    "    # Show the figure\n",
    "    plt.tight_layout()\n",
    "    plt.show()"
   ]
  },
  {
   "cell_type": "code",
   "execution_count": 122,
   "metadata": {},
   "outputs": [],
   "source": [
    "# Load the data from the CSV file\n",
    "column_names = ['Time', 'X', 'Y', 'Z', 'Label']\n",
    "data = pd.read_csv('./dataset/9.csv', header=None, names=column_names)\n",
    "\n",
    "# separate the data into 7 different structures, one for each different activity\n",
    "working_pc = data[data['Label'] == 1]\n",
    "standing_stairs = data[data['Label'] == 2]\n",
    "standing = data[data['Label'] == 3]\n",
    "walking = data[data['Label'] == 4]\n",
    "stairs = data[data['Label'] == 5]\n",
    "walking_talking = data[data['Label'] == 6]\n",
    "standing_talking = data[data['Label'] == 7]\n",
    "\n",
    "# Clean the data\n",
    "working_pc = clean_data(working_pc)\n",
    "standing_stairs = clean_data(standing_stairs)\n",
    "standing = clean_data(standing)\n",
    "walking = clean_data(walking)\n",
    "stairs = clean_data(stairs)\n",
    "walking_talking = clean_data(walking_talking)\n",
    "standing_talking = clean_data(standing_talking)\n"
   ]
  },
  {
   "cell_type": "code",
   "execution_count": 123,
   "metadata": {},
   "outputs": [
    {
     "name": "stdout",
     "output_type": "stream",
     "text": [
      "ContinuousWavelet mexh\n",
      "  Family name:    Mexican hat wavelet\n",
      "  Short name:     mexh\n",
      "  Symmetry:       symmetric\n",
      "  DWT:            False\n",
      "  CWT:            True\n",
      "  Complex CWT:    False\n"
     ]
    }
   ],
   "source": [
    "sombrero = pywt.ContinuousWavelet('mexh')\n",
    "print(sombrero)"
   ]
  },
  {
   "cell_type": "code",
   "execution_count": null,
   "metadata": {},
   "outputs": [],
   "source": [
    "# Plot the time series data for the activity of working_pc\n",
    "plot_time_series(working_pc, \"Working on PC\")\n",
    "# Plot the CWT spectrograms for the activity of working_pc\n",
    "plot_cwt_spectrograms(working_pc, 'mexh', \"Working on PC\")"
   ]
  },
  {
   "cell_type": "code",
   "execution_count": null,
   "metadata": {},
   "outputs": [],
   "source": [
    "# Plot the time series data for the activity of standing + stairs\n",
    "plot_time_series(standing_stairs, \"Standing + Stairs\")\n",
    "# Plot the CWT spectrograms for the activity of standing + stairs\n",
    "plot_cwt_spectrograms(standing_stairs, sombrero, \"Standing + Stairs\")\n"
   ]
  },
  {
   "cell_type": "code",
   "execution_count": null,
   "metadata": {},
   "outputs": [],
   "source": [
    "# Plot the time series data for the activity of standing\n",
    "plot_time_series(standing, \"Standing\")\n",
    "# plot the CWT spectrograms for the activity of standing\n",
    "plot_cwt_spectrograms(standing, sombrero, \"Standing\")"
   ]
  },
  {
   "cell_type": "code",
   "execution_count": null,
   "metadata": {},
   "outputs": [],
   "source": [
    "# plot the time series data for the activity of walking\n",
    "plot_time_series(walking, \"Walking\")\n",
    "# plot the CWT spectrograms for the activity of walking\n",
    "plot_cwt_spectrograms(walking, sombrero, \"Walking\")\n"
   ]
  },
  {
   "cell_type": "code",
   "execution_count": null,
   "metadata": {},
   "outputs": [],
   "source": [
    "# plot the time series data for the activity of stairs\n",
    "plot_time_series(stairs, \"Stairs\")\n",
    "# plot the CWT spectrograms for the activity of stairs\n",
    "plot_cwt_spectrograms(stairs, sombrero, \"Stairs\")"
   ]
  },
  {
   "cell_type": "code",
   "execution_count": null,
   "metadata": {},
   "outputs": [],
   "source": [
    "# plot the time series data for the activity of walking + talking\n",
    "plot_time_series(walking_talking, \"Walking + Talking\")\n",
    "# plot the CWT spectrograms for the activity of walking + talking\n",
    "plot_cwt_spectrograms(walking_talking, sombrero, \"Walking + Talking\")"
   ]
  },
  {
   "cell_type": "code",
   "execution_count": null,
   "metadata": {},
   "outputs": [],
   "source": [
    "# plot the time series data for the activity of standing + talking\n",
    "plot_time_series(standing_talking, \"Standing + Talking\")\n",
    "# plot the CWT spectrograms for the activity of standing + talking\n",
    "plot_cwt_spectrograms(standing_talking, sombrero, \"Standing + Talking\")"
   ]
  }
 ],
 "metadata": {
  "kernelspec": {
   "display_name": "Python 3",
   "language": "python",
   "name": "python3"
  },
  "language_info": {
   "codemirror_mode": {
    "name": "ipython",
    "version": 3
   },
   "file_extension": ".py",
   "mimetype": "text/x-python",
   "name": "python",
   "nbconvert_exporter": "python",
   "pygments_lexer": "ipython3",
   "version": "3.12.3"
  }
 },
 "nbformat": 4,
 "nbformat_minor": 2
}
